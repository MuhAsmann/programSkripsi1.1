{
 "cells": [
  {
   "cell_type": "code",
   "execution_count": 7,
   "metadata": {},
   "outputs": [],
   "source": [
    "import datetime\n",
    "from deta import Deta\n",
    "import pandas as pd\n",
    "\n",
    "# pertama\n",
    "# DETA_KEY = \"c0gxjy11k58_1LNFR6YDq8M1Ptm267jymu1Eau95ELjc\"\n",
    "# kedua\n",
    "DETA_KEY = \"c06jtxtz2ux_7jT2qFf4QXAwpfTSwDqzfekgEv1S7JSN\"\n",
    "\n",
    "\n",
    "\n",
    "deta = Deta(DETA_KEY)\n",
    "# pertama\n",
    "# db_transaksi = deta.Base(\"coba\")\n",
    "# db_user = deta.Base(\"user\")\n",
    "\n",
    "# kedua\n",
    "db_transaksi = deta.Base(\"dataTransaksi\")\n",
    "db_data_masker = deta.Base(\"dataMasker\")\n",
    "\n"
   ]
  },
  {
   "cell_type": "code",
   "execution_count": 8,
   "metadata": {},
   "outputs": [],
   "source": [
    "def insert_period(tanggal, merek, banyak, tanggal_upload):\n",
    "    \"\"\"Returns the report on a successful creation, otherwise raises an error\"\"\"\n",
    "    return db_transaksi.put({\"tanggal\": tanggal, \"merek\": merek, \"banyak\": banyak, \"tanggal_upload\": tanggal_upload})\n"
   ]
  },
  {
   "cell_type": "code",
   "execution_count": 17,
   "metadata": {},
   "outputs": [
    {
     "name": "stdout",
     "output_type": "stream",
     "text": [
      "['2023-04-30 21:01:45', '2023-04-30 20:13:00', '2023-04-30 20:25:05']\n"
     ]
    }
   ],
   "source": [
    "def fetch_all_tanggal_upload():\n",
    "    \"\"\"Returns a list of all unique values in the tanggal_upload column\"\"\"\n",
    "    all_data = db_transaksi.fetch().items\n",
    "    unique_tanggal_upload = list(\n",
    "        set([item['tanggal_upload'] for item in all_data]))\n",
    "    return unique_tanggal_upload\n",
    "\n",
    "print(fetch_all_tanggal_upload())"
   ]
  },
  {
   "cell_type": "code",
   "execution_count": 15,
   "metadata": {},
   "outputs": [
    {
     "name": "stdout",
     "output_type": "stream",
     "text": [
      "[{'banyak': 2, 'key': '2kr846rp0zgc', 'merek': 'DB Y&B Anak Motif (isi 10)', 'tanggal': '29 mei 2023', 'tanggal_upload': '2023-04-29 13:46:56'}, {'banyak': 4, 'key': 'jgqlwnx6ek02', 'merek': 'DB Alkindo 3ply', 'tanggal': '31 mei 2023', 'tanggal_upload': '2023-04-29 13:46:56'}, {'banyak': 3, 'key': 'lm471z3rwmpl', 'merek': 'DB Careion', 'tanggal': '30 mei 2023', 'tanggal_upload': '2023-04-29 13:46:56'}, {'banyak': 3, 'key': 'uf7vepn0no9t', 'merek': 'DB Alkindo 3ply', 'tanggal': '32 mei 2023', 'tanggal_upload': '2023-04-29 13:46:56'}, {'banyak': 4, 'key': 'wv4pw0d0pol6', 'merek': 'DB Alkindo 3ply', 'tanggal': '33 mei 2023', 'tanggal_upload': '2023-04-29 13:46:56'}, {'banyak': 3, 'key': 'wwtcoo0h2vgy', 'merek': 'DB Alkindo 4ply', 'tanggal': '28 mei 2023', 'tanggal_upload': '2023-04-29 13:46:56'}]\n"
     ]
    }
   ],
   "source": [
    "# import itertools\n",
    "\n",
    "def fetch_periods_by_date(tanggal_upload):\n",
    "    \"\"\"Returns a list of all periods with the specified upload date\"\"\"\n",
    "    all_data = db_transaksi.fetch().items\n",
    "    filtered_data = [\n",
    "        item for item in all_data if item['tanggal_upload'] == tanggal_upload]\n",
    "    return filtered_data\n",
    "\n",
    "#     all_data = db_transaksi.fetch().items\n",
    "#     filtered_data = [\n",
    "#         item for item in all_data if item['tanggal_upload'] == tanggal_upload]\n",
    "\n",
    "#     # group the filtered data by 'merek'\n",
    "#     grouped_data = itertools.groupby(filtered_data, key=lambda x: x['merek'])\n",
    "\n",
    "#     # calculate the total of 'banyak' for each group\n",
    "#     result = []\n",
    "#     for merek, group in grouped_data:\n",
    "#         total_banyak = sum(item['banyak'] for item in group)\n",
    "#         result.append({'merek': merek, 'total_banyak': total_banyak})\n",
    "\n",
    "#     return result\n",
    "\n",
    "\n",
    "    # all_data = db_transaksi.fetch().items\n",
    "    # filtered_data = [\n",
    "    #     item for item in all_data if item['tanggal_upload'] == tanggal_upload]\n",
    "\n",
    "    # result = []\n",
    "    # for item in filtered_data:\n",
    "    #     added = False\n",
    "    #     for res in result:\n",
    "    #         if res['merek'] == item['merek']:\n",
    "    #             res['total_banyak'] += item['banyak']\n",
    "    #             added = True\n",
    "    #             break\n",
    "    #     if not added:\n",
    "    #         result.append(\n",
    "    #             {'merek': item['merek'], 'total_banyak': item['banyak']})\n",
    "\n",
    "    # return result\n",
    "\n",
    "\n",
    "print(fetch_periods_by_date(\"2023-04-29 13:46:56\"))\n"
   ]
  },
  {
   "cell_type": "code",
   "execution_count": 19,
   "metadata": {},
   "outputs": [
    {
     "ename": "SyntaxError",
     "evalue": "EOL while scanning string literal (249441836.py, line 9)",
     "output_type": "error",
     "traceback": [
      "\u001b[1;36m  File \u001b[1;32m\"C:\\Users\\Asman\\AppData\\Local\\Temp\\ipykernel_2848\\249441836.py\"\u001b[1;36m, line \u001b[1;32m9\u001b[0m\n\u001b[1;33m    print(fetch_data_masker_by_merek(\"DB EzyCare\u001b[0m\n\u001b[1;37m                                                ^\u001b[0m\n\u001b[1;31mSyntaxError\u001b[0m\u001b[1;31m:\u001b[0m EOL while scanning string literal\n"
     ]
    }
   ],
   "source": [
    "merek_list = [item.get('merek') for item in db.fetch_data_masker()]\n",
    "\n",
    "def fetch_data_masker_by_merek(selected_merek):\n",
    "    \"\"\"Returns a list of all periods with the specified upload date\"\"\"\n",
    "    all_data = db_data_masker.fetch().items\n",
    "    filtered_data = [\n",
    "        item for item in all_data if item['merek'] == selected_merek]\n",
    "    return filtered_data\n",
    "\n",
    "\n",
    "print(merek_list)\n"
   ]
  },
  {
   "cell_type": "code",
   "execution_count": 18,
   "metadata": {},
   "outputs": [
    {
     "name": "stdout",
     "output_type": "stream",
     "text": [
      "[{'merek': 'DB Oncare', 'stok': 100, 'total_penjualan': 0, 'keuntungan': 0}, {'merek': 'DB MNC', 'stok': 100, 'total_penjualan': 0, 'keuntungan': 0}, {'merek': 'DB EzyCare', 'stok': 100, 'total_penjualan': 0, 'keuntungan': 0}, {'merek': 'Orlee Headloop', 'stok': 100, 'total_penjualan': 0, 'keuntungan': 0}, {'merek': 'KN95 Pro Careion', 'stok': 100, 'total_penjualan': 0, 'keuntungan': 0}, {'merek': 'KF94 Careion', 'stok': 100, 'total_penjualan': 0, 'keuntungan': 0}, {'merek': 'DB Careion', 'stok': 100, 'total_penjualan': 0, 'keuntungan': 0}, {'merek': 'DB Mouson', 'stok': 100, 'total_penjualan': 0, 'keuntungan': 0}, {'merek': 'Orlee Earloop', 'stok': 100, 'total_penjualan': 0, 'keuntungan': 0}, {'merek': 'KF94 Dr. Itc', 'stok': 100, 'total_penjualan': 0, 'keuntungan': 0}, {'merek': 'KN95 Y&B', 'stok': 100, 'total_penjualan': 0, 'keuntungan': 0}, {'merek': 'KN95 Pro Anak Careion', 'stok': 100, 'total_penjualan': 0, 'keuntungan': 0}, {'merek': 'DB Y&B Headloop', 'stok': 100, 'total_penjualan': 0, 'keuntungan': 0}, {'merek': 'Careion 4ply', 'stok': 97, 'total_penjualan': 3, 'keuntungan': 15000}, {'merek': 'Y&B Earloop Anak Motif', 'stok': 100, 'total_penjualan': 0, 'keuntungan': 0}, {'merek': 'KN95 Pro Anak Motif', 'stok': 100, 'total_penjualan': 0, 'keuntungan': 0}, {'merek': 'Orlee Earloop Surgical', 'stok': 100, 'total_penjualan': 0, 'keuntungan': 0}, {'merek': 'Onemed Earloop', 'stok': 100, 'total_penjualan': 0, 'keuntungan': 0}, {'merek': 'Mouson Pro', 'stok': 100, 'total_penjualan': 0, 'keuntungan': 0}, {'merek': 'DB Alkindo 4ply', 'stok': 100, 'total_penjualan': 0, 'keuntungan': 0}, {'merek': 'DB QueenMask', 'stok': 100, 'total_penjualan': 0, 'keuntungan': 0}, {'merek': 'DB Orliin isi 10', 'stok': 100, 'total_penjualan': 0, 'keuntungan': 0}, {'merek': 'Herba CleanMask', 'stok': 100, 'total_penjualan': 0, 'keuntungan': 0}, {'merek': 'DB Careion Anak', 'stok': 100, 'total_penjualan': 0, 'keuntungan': 0}, {'merek': 'ArthurMask Earloop', 'stok': 100, 'total_penjualan': 0, 'keuntungan': 0}, {'merek': 'DB Y&B', 'stok': 100, 'total_penjualan': 0, 'keuntungan': 0}, {'merek': 'KF94 FlithCare', 'stok': 100, 'total_penjualan': 0, 'keuntungan': 0}, {'merek': 'KF Belmask Kids', 'stok': 100, 'total_penjualan': 0, 'keuntungan': 0}, {'merek': 'Orlee Headloop Surgical', 'stok': 100, 'total_penjualan': 0, 'keuntungan': 0}, {'merek': 'QueenMask Earloop Hitam', 'stok': 100, 'total_penjualan': 0, 'keuntungan': 0}, {'merek': 'DB Nobita', 'stok': 100, 'total_penjualan': 0, 'keuntungan': 0}, {'merek': 'DB Orlee Baby isi 10', 'stok': 100, 'total_penjualan': 0, 'keuntungan': 0}, {'merek': 'DB Orlee', 'stok': 100, 'total_penjualan': 0, 'keuntungan': 0}, {'merek': 'DB WeMaze', 'stok': 99, 'total_penjualan': 1, 'keuntungan': 5000}, {'merek': 'KN95 Orlee', 'stok': 100, 'total_penjualan': 0, 'keuntungan': 0}, {'merek': 'DB Orliin', 'stok': 100, 'total_penjualan': 0, 'keuntungan': 0}, {'merek': 'DB Y&B Anak Motif (isi 10)', 'stok': 100, 'total_penjualan': 0, 'keuntungan': 0}, {'merek': 'KF SuperHero Prince', 'stok': 100, 'total_penjualan': 0, 'keuntungan': 0}, {'merek': 'KF94 Careion Kids', 'stok': 100, 'total_penjualan': 0, 'keuntungan': 0}, {'merek': 'Orlee Earloop Anak', 'stok': 100, 'total_penjualan': 0, 'keuntungan': 0}, {'merek': 'KF94 Orlee', 'stok': 100, 'total_penjualan': 0, 'keuntungan': 0}, {'merek': 'DB Ccare', 'stok': 100, 'total_penjualan': 0, 'keuntungan': 0}, {'merek': 'KF94 Mouson', 'stok': 100, 'total_penjualan': 0, 'keuntungan': 0}, {'merek': 'KF94 Y&B', 'stok': 96, 'total_penjualan': 4, 'keuntungan': 18000}, {'merek': 'KF JSP (isi 25)', 'stok': 100, 'total_penjualan': 0, 'keuntungan': 0}, {'merek': 'Mouson Earloop', 'stok': 100, 'total_penjualan': 0, 'keuntungan': 0}, {'merek': 'KN95 Mouson (isi 50)', 'stok': 100, 'total_penjualan': 0, 'keuntungan': 0}, {'merek': 'DB Orlee isi 10', 'stok': 100, 'total_penjualan': 0, 'keuntungan': 0}, {'merek': 'DB Sensi', 'stok': 100, 'total_penjualan': 0, 'keuntungan': 0}, {'merek': 'DB Alkindo 3ply', 'stok': 100, 'total_penjualan': 0, 'keuntungan': 0}, {'merek': 'KF94 Oncare Kids', 'stok': 100, 'total_penjualan': 0, 'keuntungan': 0}, {'merek': 'KF94 Careion Headloop', 'stok': 100, 'total_penjualan': 0, 'keuntungan': 0}, {'merek': 'DB FaceMask', 'stok': 68, 'total_penjualan': 32, 'keuntungan': 256000}, {'merek': 'DB JSP', 'stok': 96, 'total_penjualan': 4, 'keuntungan': 24000}, {'merek': 'KF94 Thumb', 'stok': 100, 'total_penjualan': 0, 'keuntungan': 0}, {'merek': 'KF94 Orliin', 'stok': 97, 'total_penjualan': 3, 'keuntungan': 10500}, {'merek': 'DB Y&B Anak', 'stok': 100, 'total_penjualan': 0, 'keuntungan': 0}, {'merek': 'KF94 Sensi', 'stok': 100, 'total_penjualan': 0, 'keuntungan': 0}]\n"
     ]
    }
   ],
   "source": [
    "def merge_data(tanggal_upload):\n",
    "    # Fetch data from both tables\n",
    "    data_masker = db_data_masker.fetch().items\n",
    "    data_transaksi = db_transaksi.fetch().items\n",
    "\n",
    "    # Get total banyak for each mask brand from transaksi table\n",
    "    total_banyak_by_merek = {}\n",
    "    for item in data_transaksi:\n",
    "        if item['tanggal_upload'] == tanggal_upload:\n",
    "            if item['merek'] in total_banyak_by_merek:\n",
    "                total_banyak_by_merek[item['merek']] += item['banyak']\n",
    "            else:\n",
    "                total_banyak_by_merek[item['merek']] = item['banyak']\n",
    "\n",
    "    # Merge data from both tables by mask brand\n",
    "    result = []\n",
    "    for item_masker in data_masker:\n",
    "        merek = item_masker['merek']\n",
    "        stok = item_masker['stok_awal'] - total_banyak_by_merek.get(merek, 0)\n",
    "        total_penjualan = total_banyak_by_merek.get(merek, 0)\n",
    "        keuntungan = total_banyak_by_merek.get(\n",
    "            merek, 0) * item_masker['keuntungan']\n",
    "\n",
    "        result.append({\n",
    "            'merek': merek,\n",
    "            'stok': stok,\n",
    "            'total_penjualan': total_penjualan,\n",
    "            'keuntungan': keuntungan\n",
    "        })\n",
    "\n",
    "    return result\n",
    "\n",
    "\n",
    "print(merge_data(\"2023-04-30 21:01:45\"))\n"
   ]
  },
  {
   "cell_type": "code",
   "execution_count": 12,
   "metadata": {},
   "outputs": [],
   "source": [
    "def delete_data_by_date(tanggal_upload):\n",
    "    \"\"\"Deletes all data with the specified tanggal_upload\"\"\"\n",
    "    data = db_transaksi.fetch({\"tanggal_upload\": tanggal_upload})\n",
    "    for item in data.items:\n",
    "        db_transaksi.delete(item[\"key\"])\n"
   ]
  },
  {
   "cell_type": "code",
   "execution_count": 13,
   "metadata": {},
   "outputs": [
    {
     "name": "stdout",
     "output_type": "stream",
     "text": [
      "[{'harga_awal': 21000, 'harga_jual': 25000, 'keuntungan': 4000, 'key': '0enhue6p8cog', 'merek': 'DB Careion', 'stok_awal': 100}, {'harga_awal': 6000, 'harga_jual': 10000, 'keuntungan': 4000, 'key': '17w30otqmvxv', 'merek': 'ArthurMask Earloop', 'stok_awal': 100}, {'harga_awal': 17000, 'harga_jual': 22000, 'keuntungan': 5000, 'key': '1ozpz6u9whb0', 'merek': 'Careion 4ply', 'stok_awal': 100}, {'harga_awal': 15000, 'harga_jual': 20000, 'keuntungan': 5000, 'key': 'gr9zoao0az1d', 'merek': 'DB Alkindo 3ply', 'stok_awal': 100}, {'harga_awal': 4000, 'harga_jual': 7000, 'keuntungan': 3000, 'key': 'ovoqnq6j90wv', 'merek': 'DB Y&B Anak Motif (isi 10)', 'stok_awal': 100}, {'harga_awal': 7000, 'harga_jual': 17000, 'keuntungan': 10000, 'key': 'weqhcklqampt', 'merek': 'DB FaceMask', 'stok_awal': 100}, {'harga_awal': 15000, 'harga_jual': 18000, 'keuntungan': 3000, 'key': 'wgyccdtfrhod', 'merek': 'DB Careion Anak', 'stok_awal': 100}]\n"
     ]
    }
   ],
   "source": [
    "def fetch_data_masker():\n",
    "    data = db_data_masker.fetch().items\n",
    "    print(data)\n",
    "\n",
    "fetch_data_masker()\n"
   ]
  },
  {
   "cell_type": "code",
   "execution_count": 14,
   "metadata": {},
   "outputs": [],
   "source": [
    "def insert_data(merek, stok_awal, harga_awal, keuntungan):\n",
    "    \"\"\"Returns the report on a successful creation, otherwise raises an error\"\"\"\n",
    "    return db_data_masker.put({\n",
    "        'merek': merek,\n",
    "        'stok_awal': stok_awal,\n",
    "        'harga_awal': harga_awal,\n",
    "        'keuntungan': keuntungan,\n",
    "        'harga_jual': harga_awal + keuntungan\n",
    "    })\n",
    "\n",
    "\n",
    "def edit_data(key, merek, stok_awal, harga_awal, keuntungan, harga_jual):\n",
    "    return db_data_masker.update({\n",
    "        'merek': merek,\n",
    "        'stok_awal': stok_awal,\n",
    "        'harga_awal': harga_awal,\n",
    "        'keuntungan': keuntungan,\n",
    "        'harga_jual': harga_jual\n",
    "    }, key)\n",
    "\n",
    "\n",
    "def delete_data(key):\n",
    "    return db_data_masker.delete(key)\n"
   ]
  }
 ],
 "metadata": {
  "kernelspec": {
   "display_name": "base",
   "language": "python",
   "name": "python3"
  },
  "language_info": {
   "codemirror_mode": {
    "name": "ipython",
    "version": 3
   },
   "file_extension": ".py",
   "mimetype": "text/x-python",
   "name": "python",
   "nbconvert_exporter": "python",
   "pygments_lexer": "ipython3",
   "version": "3.9.13"
  },
  "orig_nbformat": 4
 },
 "nbformat": 4,
 "nbformat_minor": 2
}
