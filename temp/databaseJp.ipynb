{
 "cells": [
  {
   "cell_type": "code",
   "execution_count": 1,
   "metadata": {},
   "outputs": [],
   "source": [
    "import datetime\n",
    "from deta import Deta\n",
    "import pandas as pd\n",
    "\n",
    "# pertama\n",
    "# DETA_KEY = \"c0gxjy11k58_1LNFR6YDq8M1Ptm267jymu1Eau95ELjc\"\n",
    "# kedua\n",
    "DETA_KEY = \"c06jtxtz2ux_7jT2qFf4QXAwpfTSwDqzfekgEv1S7JSN\"\n",
    "\n",
    "\n",
    "\n",
    "deta = Deta(DETA_KEY)\n",
    "# pertama\n",
    "# db_transaksi = deta.Base(\"coba\")\n",
    "# db_user = deta.Base(\"user\")\n",
    "\n",
    "# kedua\n",
    "db_transaksi = deta.Base(\"dataTransaksi\")\n",
    "db_data_masker = deta.Base(\"dataMasker\")\n",
    "\n"
   ]
  },
  {
   "cell_type": "code",
   "execution_count": 2,
   "metadata": {},
   "outputs": [],
   "source": [
    "def insert_period(tanggal, merek, banyak, tanggal_upload):\n",
    "    \"\"\"Returns the report on a successful creation, otherwise raises an error\"\"\"\n",
    "    return db_transaksi.put({\"tanggal\": tanggal, \"merek\": merek, \"banyak\": banyak, \"tanggal_upload\": tanggal_upload})\n"
   ]
  },
  {
   "cell_type": "code",
   "execution_count": 3,
   "metadata": {},
   "outputs": [
    {
     "name": "stdout",
     "output_type": "stream",
     "text": [
      "['2023-04-30 20:25:05', '2023-04-30 21:01:45']\n"
     ]
    }
   ],
   "source": [
    "def fetch_all_tanggal_upload():\n",
    "    \"\"\"Returns a list of all unique values in the tanggal_upload column\"\"\"\n",
    "    all_data = db_transaksi.fetch().items\n",
    "    unique_tanggal_upload = list(\n",
    "        set([item['tanggal_upload'] for item in all_data]))\n",
    "    return unique_tanggal_upload\n",
    "\n",
    "print(fetch_all_tanggal_upload())"
   ]
  },
  {
   "cell_type": "code",
   "execution_count": 4,
   "metadata": {},
   "outputs": [
    {
     "name": "stdout",
     "output_type": "stream",
     "text": [
      "[]\n"
     ]
    }
   ],
   "source": [
    "# import itertools\n",
    "\n",
    "def fetch_periods_by_date(tanggal_upload):\n",
    "    \"\"\"Returns a list of all periods with the specified upload date\"\"\"\n",
    "    all_data = db_transaksi.fetch().items\n",
    "    filtered_data = [\n",
    "        item for item in all_data if item['tanggal_upload'] == tanggal_upload]\n",
    "    return filtered_data\n",
    "\n",
    "#     all_data = db_transaksi.fetch().items\n",
    "#     filtered_data = [\n",
    "#         item for item in all_data if item['tanggal_upload'] == tanggal_upload]\n",
    "\n",
    "#     # group the filtered data by 'merek'\n",
    "#     grouped_data = itertools.groupby(filtered_data, key=lambda x: x['merek'])\n",
    "\n",
    "#     # calculate the total of 'banyak' for each group\n",
    "#     result = []\n",
    "#     for merek, group in grouped_data:\n",
    "#         total_banyak = sum(item['banyak'] for item in group)\n",
    "#         result.append({'merek': merek, 'total_banyak': total_banyak})\n",
    "\n",
    "#     return result\n",
    "\n",
    "\n",
    "    # all_data = db_transaksi.fetch().items\n",
    "    # filtered_data = [\n",
    "    #     item for item in all_data if item['tanggal_upload'] == tanggal_upload]\n",
    "\n",
    "    # result = []\n",
    "    # for item in filtered_data:\n",
    "    #     added = False\n",
    "    #     for res in result:\n",
    "    #         if res['merek'] == item['merek']:\n",
    "    #             res['total_banyak'] += item['banyak']\n",
    "    #             added = True\n",
    "    #             break\n",
    "    #     if not added:\n",
    "    #         result.append(\n",
    "    #             {'merek': item['merek'], 'total_banyak': item['banyak']})\n",
    "\n",
    "    # return result\n",
    "\n",
    "\n",
    "print(fetch_periods_by_date(\"2023-04-29 13:46:56\"))\n"
   ]
  },
  {
   "cell_type": "code",
   "execution_count": 5,
   "metadata": {},
   "outputs": [
    {
     "name": "stdout",
     "output_type": "stream",
     "text": [
      "{'DB FaceMask': 32, 'KF94 Y&B': 4, 'KF94 Orliin': 3, 'Careion 4ply': 3, 'DB WeMaze': 1, 'DB JSP': 4}\n",
      "[{'merek': 'DB Oncare', 'stok': 100, 'total_penjualan': 0, 'keuntungan': 0}, {'merek': 'DB MNC', 'stok': 100, 'total_penjualan': 0, 'keuntungan': 0}, {'merek': 'DB EzyCare', 'stok': 100, 'total_penjualan': 0, 'keuntungan': 0}, {'merek': 'Orlee Headloop', 'stok': 100, 'total_penjualan': 0, 'keuntungan': 0}, {'merek': 'KN95 Pro Careion', 'stok': 100, 'total_penjualan': 0, 'keuntungan': 0}, {'merek': 'KF94 Careion', 'stok': 100, 'total_penjualan': 0, 'keuntungan': 0}, {'merek': 'DB Careion', 'stok': 100, 'total_penjualan': 0, 'keuntungan': 0}, {'merek': 'DB Mouson', 'stok': 100, 'total_penjualan': 0, 'keuntungan': 0}, {'merek': 'Orlee Earloop', 'stok': 100, 'total_penjualan': 0, 'keuntungan': 0}, {'merek': 'KF94 Dr. Itc', 'stok': 100, 'total_penjualan': 0, 'keuntungan': 0}, {'merek': 'KN95 Y&B', 'stok': 100, 'total_penjualan': 0, 'keuntungan': 0}, {'merek': 'KN95 Pro Anak Careion', 'stok': 100, 'total_penjualan': 0, 'keuntungan': 0}, {'merek': 'DB Y&B Headloop', 'stok': 100, 'total_penjualan': 0, 'keuntungan': 0}, {'merek': 'Careion 4ply', 'stok': 97, 'total_penjualan': 3, 'keuntungan': 15000}, {'merek': 'Y&B Earloop Anak Motif', 'stok': 100, 'total_penjualan': 0, 'keuntungan': 0}, {'merek': 'KN95 Pro Anak Motif', 'stok': 100, 'total_penjualan': 0, 'keuntungan': 0}, {'merek': 'Orlee Earloop Surgical', 'stok': 100, 'total_penjualan': 0, 'keuntungan': 0}, {'merek': 'Onemed Earloop', 'stok': 100, 'total_penjualan': 0, 'keuntungan': 0}, {'merek': 'Mouson Pro', 'stok': 100, 'total_penjualan': 0, 'keuntungan': 0}, {'merek': 'DB Alkindo 4ply', 'stok': 100, 'total_penjualan': 0, 'keuntungan': 0}, {'merek': 'DB QueenMask', 'stok': 100, 'total_penjualan': 0, 'keuntungan': 0}, {'merek': 'DB Orliin isi 10', 'stok': 100, 'total_penjualan': 0, 'keuntungan': 0}, {'merek': 'Herba CleanMask', 'stok': 100, 'total_penjualan': 0, 'keuntungan': 0}, {'merek': 'DB Careion Anak', 'stok': 100, 'total_penjualan': 0, 'keuntungan': 0}, {'merek': 'ArthurMask Earloop', 'stok': 100, 'total_penjualan': 0, 'keuntungan': 0}, {'merek': 'DB Y&B', 'stok': 100, 'total_penjualan': 0, 'keuntungan': 0}, {'merek': 'KF94 FlithCare', 'stok': 100, 'total_penjualan': 0, 'keuntungan': 0}, {'merek': 'KF Belmask Kids', 'stok': 100, 'total_penjualan': 0, 'keuntungan': 0}, {'merek': 'Orlee Headloop Surgical', 'stok': 100, 'total_penjualan': 0, 'keuntungan': 0}, {'merek': 'QueenMask Earloop Hitam', 'stok': 100, 'total_penjualan': 0, 'keuntungan': 0}, {'merek': 'DB Nobita', 'stok': 100, 'total_penjualan': 0, 'keuntungan': 0}, {'merek': 'DB Orlee Baby isi 10', 'stok': 100, 'total_penjualan': 0, 'keuntungan': 0}, {'merek': 'DB Orlee', 'stok': 100, 'total_penjualan': 0, 'keuntungan': 0}, {'merek': 'DB WeMaze', 'stok': 99, 'total_penjualan': 1, 'keuntungan': 5000}, {'merek': 'KN95 Orlee', 'stok': 100, 'total_penjualan': 0, 'keuntungan': 0}, {'merek': 'DB Orliin', 'stok': 100, 'total_penjualan': 0, 'keuntungan': 0}, {'merek': 'DB Y&B Anak Motif (isi 10)', 'stok': 100, 'total_penjualan': 0, 'keuntungan': 0}, {'merek': 'KF SuperHero Prince', 'stok': 100, 'total_penjualan': 0, 'keuntungan': 0}, {'merek': 'KF94 Careion Kids', 'stok': 100, 'total_penjualan': 0, 'keuntungan': 0}, {'merek': 'Orlee Earloop Anak', 'stok': 100, 'total_penjualan': 0, 'keuntungan': 0}, {'merek': 'KF94 Orlee', 'stok': 100, 'total_penjualan': 0, 'keuntungan': 0}, {'merek': 'DB Ccare', 'stok': 100, 'total_penjualan': 0, 'keuntungan': 0}, {'merek': 'KF94 Mouson', 'stok': 100, 'total_penjualan': 0, 'keuntungan': 0}, {'merek': 'KF94 Y&B', 'stok': 96, 'total_penjualan': 4, 'keuntungan': 18000}, {'merek': 'KF JSP (isi 25)', 'stok': 100, 'total_penjualan': 0, 'keuntungan': 0}, {'merek': 'Mouson Earloop', 'stok': 100, 'total_penjualan': 0, 'keuntungan': 0}, {'merek': 'KN95 Mouson (isi 50)', 'stok': 100, 'total_penjualan': 0, 'keuntungan': 0}, {'merek': 'DB Orlee isi 10', 'stok': 100, 'total_penjualan': 0, 'keuntungan': 0}, {'merek': 'DB Sensi', 'stok': 100, 'total_penjualan': 0, 'keuntungan': 0}, {'merek': 'DB Alkindo 3ply', 'stok': 100, 'total_penjualan': 0, 'keuntungan': 0}, {'merek': 'KF94 Oncare Kids', 'stok': 100, 'total_penjualan': 0, 'keuntungan': 0}, {'merek': 'KF94 Careion Headloop', 'stok': 100, 'total_penjualan': 0, 'keuntungan': 0}, {'merek': 'DB FaceMask', 'stok': 68, 'total_penjualan': 32, 'keuntungan': 256000}, {'merek': 'DB JSP', 'stok': 96, 'total_penjualan': 4, 'keuntungan': 24000}, {'merek': 'KF94 Thumb', 'stok': 100, 'total_penjualan': 0, 'keuntungan': 0}, {'merek': 'KF94 Orliin', 'stok': 97, 'total_penjualan': 3, 'keuntungan': 10500}, {'merek': 'DB Y&B Anak', 'stok': 100, 'total_penjualan': 0, 'keuntungan': 0}, {'merek': 'KF94 Sensi', 'stok': 100, 'total_penjualan': 0, 'keuntungan': 0}]\n"
     ]
    }
   ],
   "source": [
    "def merge_data(tanggal_upload):\n",
    "    # Fetch data from both tables\n",
    "    data_masker = db_data_masker.fetch().items\n",
    "    data_transaksi = db_transaksi.fetch().items\n",
    "\n",
    "    # Get total banyak for each mask brand from transaksi table\n",
    "    total_banyak_by_merek = {}\n",
    "    for item in data_transaksi:\n",
    "        if item['tanggal_upload'] == tanggal_upload:\n",
    "            if item['merek'] in total_banyak_by_merek:\n",
    "                total_banyak_by_merek[item['merek']] += item['banyak']\n",
    "            else:\n",
    "                total_banyak_by_merek[item['merek']] = item['banyak']\n",
    "\n",
    "    print (total_banyak_by_merek)   \n",
    "    # Merge data from both tables by mask brand\n",
    "    result = []\n",
    "    for item_masker in data_masker:\n",
    "        merek = item_masker['merek']\n",
    "        stok = item_masker['stok_awal'] - total_banyak_by_merek.get(merek, 0)\n",
    "        total_penjualan = total_banyak_by_merek.get(merek, 0)\n",
    "        keuntungan = total_banyak_by_merek.get(\n",
    "            merek, 0) * item_masker['keuntungan']\n",
    "\n",
    "        result.append({\n",
    "            'merek': merek,\n",
    "            'stok': stok,\n",
    "            'total_penjualan': total_penjualan,\n",
    "            'keuntungan': keuntungan\n",
    "        })\n",
    "\n",
    "    return result\n",
    "\n",
    "print(merge_data(\"2023-04-30 21:01:45\"))\n"
   ]
  },
  {
   "cell_type": "code",
   "execution_count": 6,
   "metadata": {},
   "outputs": [],
   "source": [
    "def delete_data_by_date(tanggal_upload):\n",
    "    \"\"\"Deletes all data with the specified tanggal_upload\"\"\"\n",
    "    data = db_transaksi.fetch({\"tanggal_upload\": tanggal_upload})\n",
    "    for item in data.items:\n",
    "        db_transaksi.delete(item[\"key\"])\n"
   ]
  },
  {
   "cell_type": "code",
   "execution_count": 7,
   "metadata": {},
   "outputs": [
    {
     "name": "stdout",
     "output_type": "stream",
     "text": [
      "[{'harga_awal': 17000, 'harga_jual': 25000, 'keuntungan': 8000, 'key': '2690ztunqqm6', 'merek': 'DB Oncare', 'stok_awal': 100}, {'harga_awal': 19000, 'harga_jual': 25000, 'keuntungan': 6000, 'key': '2f02pua297r1', 'merek': 'DB MNC', 'stok_awal': 100}, {'harga_awal': 8000, 'harga_jual': 13000, 'keuntungan': 5000, 'key': '2k5q1ejr5le9', 'merek': 'DB EzyCare', 'stok_awal': 100}, {'harga_awal': 19000, 'harga_jual': 23000, 'keuntungan': 4000, 'key': '2nmr7lbqjxkr', 'merek': 'Orlee Headloop', 'stok_awal': 100}, {'harga_awal': 6700, 'harga_jual': 13000, 'keuntungan': 6300, 'key': '3fl6xvwn6qry', 'merek': 'KN95 Pro Careion', 'stok_awal': 100}, {'harga_awal': 6700, 'harga_jual': 10000, 'keuntungan': 3300, 'key': '4yodnyd2iwhm', 'merek': 'KF94 Careion', 'stok_awal': 100}, {'harga_awal': 21000, 'harga_jual': 25000, 'keuntungan': 4000, 'key': '517gps3y6x4b', 'merek': 'DB Careion', 'stok_awal': 100}, {'harga_awal': 16000, 'harga_jual': 25000, 'keuntungan': 9000, 'key': '5jwz5zr197tv', 'merek': 'DB Mouson', 'stok_awal': 100}, {'harga_awal': 14000, 'harga_jual': 18000, 'keuntungan': 4000, 'key': '6v6lm92etcrl', 'merek': 'Orlee Earloop', 'stok_awal': 100}, {'harga_awal': 6500, 'harga_jual': 10000, 'keuntungan': 3500, 'key': '71i7liwzmdxg', 'merek': 'KF94 Dr. Itc', 'stok_awal': 100}, {'harga_awal': 7000, 'harga_jual': 10000, 'keuntungan': 3000, 'key': '7us0njsnxw4m', 'merek': 'KN95 Y&B', 'stok_awal': 100}, {'harga_awal': 8500, 'harga_jual': 12000, 'keuntungan': 3500, 'key': '7v5qjdhw1iug', 'merek': 'KN95 Pro Anak Careion', 'stok_awal': 100}, {'harga_awal': 19000, 'harga_jual': 25000, 'keuntungan': 6000, 'key': '86ev7qavk7n7', 'merek': 'DB Y&B Headloop', 'stok_awal': 100}, {'harga_awal': 17000, 'harga_jual': 22000, 'keuntungan': 5000, 'key': '89tmhiactas8', 'merek': 'Careion 4ply', 'stok_awal': 100}, {'harga_awal': 15000, 'harga_jual': 20000, 'keuntungan': 5000, 'key': '8zezxa5w6nuo', 'merek': 'Y&B Earloop Anak Motif', 'stok_awal': 100}, {'harga_awal': 6500, 'harga_jual': 10000, 'keuntungan': 3500, 'key': '93tr99e0j82z', 'merek': 'KN95 Pro Anak Motif', 'stok_awal': 100}, {'harga_awal': 19000, 'harga_jual': 23000, 'keuntungan': 4000, 'key': '9hbx1y1vw53k', 'merek': 'Orlee Earloop Surgical', 'stok_awal': 100}, {'harga_awal': 20000, 'harga_jual': 25000, 'keuntungan': 5000, 'key': '9wuiv70l73rf', 'merek': 'Onemed Earloop', 'stok_awal': 100}, {'harga_awal': 6700, 'harga_jual': 13000, 'keuntungan': 6300, 'key': '9x2ch1rfjav0', 'merek': 'Mouson Pro', 'stok_awal': 100}, {'harga_awal': 16000, 'harga_jual': 25000, 'keuntungan': 9000, 'key': 'arbyg1rzjty1', 'merek': 'DB Alkindo 4ply', 'stok_awal': 100}, {'harga_awal': 15000, 'harga_jual': 20000, 'keuntungan': 5000, 'key': 'b5x5x4e2neuf', 'merek': 'DB QueenMask', 'stok_awal': 100}, {'harga_awal': 6000, 'harga_jual': 10000, 'keuntungan': 4000, 'key': 'b6f5gplvmh2h', 'merek': 'DB Orliin isi 10', 'stok_awal': 100}, {'harga_awal': 26000, 'harga_jual': 30000, 'keuntungan': 4000, 'key': 'b9tu0qth8plf', 'merek': 'Herba CleanMask', 'stok_awal': 100}, {'harga_awal': 17000, 'harga_jual': 20000, 'keuntungan': 3000, 'key': 'bbmshxw8lcv7', 'merek': 'DB Careion Anak', 'stok_awal': 100}, {'harga_awal': 6000, 'harga_jual': 10000, 'keuntungan': 4000, 'key': 'c74u4gbi4gg4', 'merek': 'ArthurMask Earloop', 'stok_awal': 100}, {'harga_awal': 14500, 'harga_jual': 20000, 'keuntungan': 5500, 'key': 'cp8fqsh69ykx', 'merek': 'DB Y&B', 'stok_awal': 100}, {'harga_awal': 6500, 'harga_jual': 10000, 'keuntungan': 3500, 'key': 'dhdjrqscr401', 'merek': 'KF94 FlithCare', 'stok_awal': 100}, {'harga_awal': 6500, 'harga_jual': 10000, 'keuntungan': 3500, 'key': 'e41gjs68ukwj', 'merek': 'KF Belmask Kids', 'stok_awal': 100}, {'harga_awal': 14000, 'harga_jual': 28000, 'keuntungan': 14000, 'key': 'e5ukixmzsrqh', 'merek': 'Orlee Headloop Surgical', 'stok_awal': 100}, {'harga_awal': 7000, 'harga_jual': 13000, 'keuntungan': 6000, 'key': 'fbgqby2m592n', 'merek': 'QueenMask Earloop Hitam', 'stok_awal': 100}, {'harga_awal': 7000, 'harga_jual': 15000, 'keuntungan': 8000, 'key': 'g6gl0ebxy018', 'merek': 'DB Nobita', 'stok_awal': 100}, {'harga_awal': 6500, 'harga_jual': 10000, 'keuntungan': 3500, 'key': 'g7c0lta32epj', 'merek': 'DB Orlee Baby isi 10', 'stok_awal': 100}, {'harga_awal': 29000, 'harga_jual': 35000, 'keuntungan': 6000, 'key': 'gxjeor7cam0e', 'merek': 'DB Orlee', 'stok_awal': 100}, {'harga_awal': 15000, 'harga_jual': 20000, 'keuntungan': 5000, 'key': 'hq9yb0osk26q', 'merek': 'DB WeMaze', 'stok_awal': 100}, {'harga_awal': 8500, 'harga_jual': 13000, 'keuntungan': 4500, 'key': 'hskysd0nckxy', 'merek': 'KN95 Orlee', 'stok_awal': 100}, {'harga_awal': 20500, 'harga_jual': 26000, 'keuntungan': 5500, 'key': 'ifo0f3unl7mt', 'merek': 'DB Orliin', 'stok_awal': 100}, {'harga_awal': 4000, 'harga_jual': 7000, 'keuntungan': 3000, 'key': 'ind2i736cfl5', 'merek': 'DB Y&B Anak Motif (isi 10)', 'stok_awal': 100}, {'harga_awal': 8000, 'harga_jual': 12000, 'keuntungan': 4000, 'key': 'ionm1s9yr573', 'merek': 'KF SuperHero Prince', 'stok_awal': 100}, {'harga_awal': 6700, 'harga_jual': 10000, 'keuntungan': 3300, 'key': 'ku37n2e7z458', 'merek': 'KF94 Careion Kids', 'stok_awal': 100}, {'harga_awal': 19000, 'harga_jual': 23000, 'keuntungan': 4000, 'key': 'lacbd2umlo80', 'merek': 'Orlee Earloop Anak', 'stok_awal': 100}, {'harga_awal': 8500, 'harga_jual': 13000, 'keuntungan': 4500, 'key': 'mzvpkj4mvedz', 'merek': 'KF94 Orlee', 'stok_awal': 100}, {'harga_awal': 14000, 'harga_jual': 20000, 'keuntungan': 6000, 'key': 'nl2btuqkvbce', 'merek': 'DB Ccare', 'stok_awal': 100}, {'harga_awal': 8500, 'harga_jual': 13000, 'keuntungan': 4500, 'key': 'nrmqxaeqjkhh', 'merek': 'KF94 Mouson', 'stok_awal': 100}, {'harga_awal': 3500, 'harga_jual': 8000, 'keuntungan': 4500, 'key': 'p2iatximtfzg', 'merek': 'KF94 Y&B', 'stok_awal': 100}, {'harga_awal': 18500, 'harga_jual': 25000, 'keuntungan': 6500, 'key': 'p61kgbmfqgtl', 'merek': 'KF JSP (isi 25)', 'stok_awal': 100}, {'harga_awal': 10000, 'harga_jual': 15000, 'keuntungan': 5000, 'key': 'pn7y6oiehalp', 'merek': 'Mouson Earloop', 'stok_awal': 100}, {'harga_awal': 31000, 'harga_jual': 45000, 'keuntungan': 14000, 'key': 'qyk4qs205tn5', 'merek': 'KN95 Mouson (isi 50)', 'stok_awal': 100}, {'harga_awal': 6500, 'harga_jual': 10000, 'keuntungan': 3500, 'key': 'rg9k6jww18hl', 'merek': 'DB Orlee isi 10', 'stok_awal': 100}, {'harga_awal': 125000, 'harga_jual': 130000, 'keuntungan': 5000, 'key': 'rvyasjyo6pub', 'merek': 'DB Sensi', 'stok_awal': 100}, {'harga_awal': 15000, 'harga_jual': 20000, 'keuntungan': 5000, 'key': 'tl0r9tkznodv', 'merek': 'DB Alkindo 3ply', 'stok_awal': 100}, {'harga_awal': 8000, 'harga_jual': 12000, 'keuntungan': 4000, 'key': 'u0j6g5lbh67h', 'merek': 'KF94 Oncare Kids', 'stok_awal': 100}, {'harga_awal': 7700, 'harga_jual': 12000, 'keuntungan': 4300, 'key': 'vab14ijsfi3d', 'merek': 'KF94 Careion Headloop', 'stok_awal': 100}, {'harga_awal': 7000, 'harga_jual': 15000, 'keuntungan': 8000, 'key': 'vtjmmynwe9d2', 'merek': 'DB FaceMask', 'stok_awal': 100}, {'harga_awal': 19000, 'harga_jual': 25000, 'keuntungan': 6000, 'key': 'xghctir9rxj7', 'merek': 'DB JSP', 'stok_awal': 100}, {'harga_awal': 8500, 'harga_jual': 13000, 'keuntungan': 4500, 'key': 'xig424d7m1di', 'merek': 'KF94 Thumb', 'stok_awal': 100}, {'harga_awal': 6500, 'harga_jual': 10000, 'keuntungan': 3500, 'key': 'xszp71d85gst', 'merek': 'KF94 Orliin', 'stok_awal': 100}, {'harga_awal': 14500, 'harga_jual': 20000, 'keuntungan': 5500, 'key': 'yiqt7k0r5a7r', 'merek': 'DB Y&B Anak', 'stok_awal': 100}, {'harga_awal': 125000, 'harga_jual': 130000, 'keuntungan': 5000, 'key': 'ypi8beyr0as7', 'merek': 'KF94 Sensi', 'stok_awal': 100}]\n"
     ]
    }
   ],
   "source": [
    "def fetch_data_masker():\n",
    "    data = db_data_masker.fetch().items\n",
    "    print(data)\n",
    "\n",
    "fetch_data_masker()\n"
   ]
  },
  {
   "cell_type": "code",
   "execution_count": 8,
   "metadata": {},
   "outputs": [],
   "source": [
    "def insert_data(merek, stok_awal, harga_awal, keuntungan):\n",
    "    \"\"\"Returns the report on a successful creation, otherwise raises an error\"\"\"\n",
    "    return db_data_masker.put({\n",
    "        'merek': merek,\n",
    "        'stok_awal': stok_awal,\n",
    "        'harga_awal': harga_awal,\n",
    "        'keuntungan': keuntungan,\n",
    "        'harga_jual': harga_awal + keuntungan\n",
    "    })\n",
    "\n",
    "\n",
    "def edit_data(key, merek, stok_awal, harga_awal, keuntungan, harga_jual):\n",
    "    return db_data_masker.update({\n",
    "        'merek': merek,\n",
    "        'stok_awal': stok_awal,\n",
    "        'harga_awal': harga_awal,\n",
    "        'keuntungan': keuntungan,\n",
    "        'harga_jual': harga_jual\n",
    "    }, key)\n",
    "\n",
    "\n",
    "def delete_data(key):\n",
    "    return db_data_masker.delete(key)\n"
   ]
  },
  {
   "cell_type": "code",
   "execution_count": 9,
   "metadata": {},
   "outputs": [
    {
     "name": "stdout",
     "output_type": "stream",
     "text": [
      "[{'harga_awal': 17000, 'harga_jual': 25000, 'keuntungan': 8000, 'key': '2690ztunqqm6', 'merek': 'DB Oncare', 'stok_awal': 100}, {'harga_awal': 19000, 'harga_jual': 25000, 'keuntungan': 6000, 'key': '2f02pua297r1', 'merek': 'DB MNC', 'stok_awal': 100}, {'harga_awal': 8000, 'harga_jual': 13000, 'keuntungan': 5000, 'key': '2k5q1ejr5le9', 'merek': 'DB EzyCare', 'stok_awal': 100}, {'harga_awal': 19000, 'harga_jual': 23000, 'keuntungan': 4000, 'key': '2nmr7lbqjxkr', 'merek': 'Orlee Headloop', 'stok_awal': 100}, {'harga_awal': 6700, 'harga_jual': 13000, 'keuntungan': 6300, 'key': '3fl6xvwn6qry', 'merek': 'KN95 Pro Careion', 'stok_awal': 100}, {'harga_awal': 6700, 'harga_jual': 10000, 'keuntungan': 3300, 'key': '4yodnyd2iwhm', 'merek': 'KF94 Careion', 'stok_awal': 100}, {'harga_awal': 21000, 'harga_jual': 25000, 'keuntungan': 4000, 'key': '517gps3y6x4b', 'merek': 'DB Careion', 'stok_awal': 100}, {'harga_awal': 16000, 'harga_jual': 25000, 'keuntungan': 9000, 'key': '5jwz5zr197tv', 'merek': 'DB Mouson', 'stok_awal': 100}, {'harga_awal': 14000, 'harga_jual': 18000, 'keuntungan': 4000, 'key': '6v6lm92etcrl', 'merek': 'Orlee Earloop', 'stok_awal': 100}, {'harga_awal': 6500, 'harga_jual': 10000, 'keuntungan': 3500, 'key': '71i7liwzmdxg', 'merek': 'KF94 Dr. Itc', 'stok_awal': 100}, {'harga_awal': 7000, 'harga_jual': 10000, 'keuntungan': 3000, 'key': '7us0njsnxw4m', 'merek': 'KN95 Y&B', 'stok_awal': 100}, {'harga_awal': 8500, 'harga_jual': 12000, 'keuntungan': 3500, 'key': '7v5qjdhw1iug', 'merek': 'KN95 Pro Anak Careion', 'stok_awal': 100}, {'harga_awal': 19000, 'harga_jual': 25000, 'keuntungan': 6000, 'key': '86ev7qavk7n7', 'merek': 'DB Y&B Headloop', 'stok_awal': 100}, {'harga_awal': 17000, 'harga_jual': 22000, 'keuntungan': 5000, 'key': '89tmhiactas8', 'merek': 'Careion 4ply', 'stok_awal': 100}, {'harga_awal': 15000, 'harga_jual': 20000, 'keuntungan': 5000, 'key': '8zezxa5w6nuo', 'merek': 'Y&B Earloop Anak Motif', 'stok_awal': 100}, {'harga_awal': 6500, 'harga_jual': 10000, 'keuntungan': 3500, 'key': '93tr99e0j82z', 'merek': 'KN95 Pro Anak Motif', 'stok_awal': 100}, {'harga_awal': 19000, 'harga_jual': 23000, 'keuntungan': 4000, 'key': '9hbx1y1vw53k', 'merek': 'Orlee Earloop Surgical', 'stok_awal': 100}, {'harga_awal': 20000, 'harga_jual': 25000, 'keuntungan': 5000, 'key': '9wuiv70l73rf', 'merek': 'Onemed Earloop', 'stok_awal': 100}, {'harga_awal': 6700, 'harga_jual': 13000, 'keuntungan': 6300, 'key': '9x2ch1rfjav0', 'merek': 'Mouson Pro', 'stok_awal': 100}, {'harga_awal': 16000, 'harga_jual': 25000, 'keuntungan': 9000, 'key': 'arbyg1rzjty1', 'merek': 'DB Alkindo 4ply', 'stok_awal': 100}, {'harga_awal': 15000, 'harga_jual': 20000, 'keuntungan': 5000, 'key': 'b5x5x4e2neuf', 'merek': 'DB QueenMask', 'stok_awal': 100}, {'harga_awal': 6000, 'harga_jual': 10000, 'keuntungan': 4000, 'key': 'b6f5gplvmh2h', 'merek': 'DB Orliin isi 10', 'stok_awal': 100}, {'harga_awal': 26000, 'harga_jual': 30000, 'keuntungan': 4000, 'key': 'b9tu0qth8plf', 'merek': 'Herba CleanMask', 'stok_awal': 100}, {'harga_awal': 17000, 'harga_jual': 20000, 'keuntungan': 3000, 'key': 'bbmshxw8lcv7', 'merek': 'DB Careion Anak', 'stok_awal': 100}, {'harga_awal': 6000, 'harga_jual': 10000, 'keuntungan': 4000, 'key': 'c74u4gbi4gg4', 'merek': 'ArthurMask Earloop', 'stok_awal': 100}, {'harga_awal': 14500, 'harga_jual': 20000, 'keuntungan': 5500, 'key': 'cp8fqsh69ykx', 'merek': 'DB Y&B', 'stok_awal': 100}, {'harga_awal': 6500, 'harga_jual': 10000, 'keuntungan': 3500, 'key': 'dhdjrqscr401', 'merek': 'KF94 FlithCare', 'stok_awal': 100}, {'harga_awal': 6500, 'harga_jual': 10000, 'keuntungan': 3500, 'key': 'e41gjs68ukwj', 'merek': 'KF Belmask Kids', 'stok_awal': 100}, {'harga_awal': 14000, 'harga_jual': 28000, 'keuntungan': 14000, 'key': 'e5ukixmzsrqh', 'merek': 'Orlee Headloop Surgical', 'stok_awal': 100}, {'harga_awal': 7000, 'harga_jual': 13000, 'keuntungan': 6000, 'key': 'fbgqby2m592n', 'merek': 'QueenMask Earloop Hitam', 'stok_awal': 100}, {'harga_awal': 7000, 'harga_jual': 15000, 'keuntungan': 8000, 'key': 'g6gl0ebxy018', 'merek': 'DB Nobita', 'stok_awal': 100}, {'harga_awal': 6500, 'harga_jual': 10000, 'keuntungan': 3500, 'key': 'g7c0lta32epj', 'merek': 'DB Orlee Baby isi 10', 'stok_awal': 100}, {'harga_awal': 29000, 'harga_jual': 35000, 'keuntungan': 6000, 'key': 'gxjeor7cam0e', 'merek': 'DB Orlee', 'stok_awal': 100}, {'harga_awal': 15000, 'harga_jual': 20000, 'keuntungan': 5000, 'key': 'hq9yb0osk26q', 'merek': 'DB WeMaze', 'stok_awal': 100}, {'harga_awal': 8500, 'harga_jual': 13000, 'keuntungan': 4500, 'key': 'hskysd0nckxy', 'merek': 'KN95 Orlee', 'stok_awal': 100}, {'harga_awal': 20500, 'harga_jual': 26000, 'keuntungan': 5500, 'key': 'ifo0f3unl7mt', 'merek': 'DB Orliin', 'stok_awal': 100}, {'harga_awal': 4000, 'harga_jual': 7000, 'keuntungan': 3000, 'key': 'ind2i736cfl5', 'merek': 'DB Y&B Anak Motif (isi 10)', 'stok_awal': 100}, {'harga_awal': 8000, 'harga_jual': 12000, 'keuntungan': 4000, 'key': 'ionm1s9yr573', 'merek': 'KF SuperHero Prince', 'stok_awal': 100}, {'harga_awal': 6700, 'harga_jual': 10000, 'keuntungan': 3300, 'key': 'ku37n2e7z458', 'merek': 'KF94 Careion Kids', 'stok_awal': 100}, {'harga_awal': 19000, 'harga_jual': 23000, 'keuntungan': 4000, 'key': 'lacbd2umlo80', 'merek': 'Orlee Earloop Anak', 'stok_awal': 100}, {'harga_awal': 8500, 'harga_jual': 13000, 'keuntungan': 4500, 'key': 'mzvpkj4mvedz', 'merek': 'KF94 Orlee', 'stok_awal': 100}, {'harga_awal': 14000, 'harga_jual': 20000, 'keuntungan': 6000, 'key': 'nl2btuqkvbce', 'merek': 'DB Ccare', 'stok_awal': 100}, {'harga_awal': 8500, 'harga_jual': 13000, 'keuntungan': 4500, 'key': 'nrmqxaeqjkhh', 'merek': 'KF94 Mouson', 'stok_awal': 100}, {'harga_awal': 3500, 'harga_jual': 8000, 'keuntungan': 4500, 'key': 'p2iatximtfzg', 'merek': 'KF94 Y&B', 'stok_awal': 100}, {'harga_awal': 18500, 'harga_jual': 25000, 'keuntungan': 6500, 'key': 'p61kgbmfqgtl', 'merek': 'KF JSP (isi 25)', 'stok_awal': 100}, {'harga_awal': 10000, 'harga_jual': 15000, 'keuntungan': 5000, 'key': 'pn7y6oiehalp', 'merek': 'Mouson Earloop', 'stok_awal': 100}, {'harga_awal': 31000, 'harga_jual': 45000, 'keuntungan': 14000, 'key': 'qyk4qs205tn5', 'merek': 'KN95 Mouson (isi 50)', 'stok_awal': 100}, {'harga_awal': 6500, 'harga_jual': 10000, 'keuntungan': 3500, 'key': 'rg9k6jww18hl', 'merek': 'DB Orlee isi 10', 'stok_awal': 100}, {'harga_awal': 125000, 'harga_jual': 130000, 'keuntungan': 5000, 'key': 'rvyasjyo6pub', 'merek': 'DB Sensi', 'stok_awal': 100}, {'harga_awal': 15000, 'harga_jual': 20000, 'keuntungan': 5000, 'key': 'tl0r9tkznodv', 'merek': 'DB Alkindo 3ply', 'stok_awal': 100}, {'harga_awal': 8000, 'harga_jual': 12000, 'keuntungan': 4000, 'key': 'u0j6g5lbh67h', 'merek': 'KF94 Oncare Kids', 'stok_awal': 100}, {'harga_awal': 7700, 'harga_jual': 12000, 'keuntungan': 4300, 'key': 'vab14ijsfi3d', 'merek': 'KF94 Careion Headloop', 'stok_awal': 100}, {'harga_awal': 7000, 'harga_jual': 15000, 'keuntungan': 8000, 'key': 'vtjmmynwe9d2', 'merek': 'DB FaceMask', 'stok_awal': 100}, {'harga_awal': 19000, 'harga_jual': 25000, 'keuntungan': 6000, 'key': 'xghctir9rxj7', 'merek': 'DB JSP', 'stok_awal': 100}, {'harga_awal': 8500, 'harga_jual': 13000, 'keuntungan': 4500, 'key': 'xig424d7m1di', 'merek': 'KF94 Thumb', 'stok_awal': 100}, {'harga_awal': 6500, 'harga_jual': 10000, 'keuntungan': 3500, 'key': 'xszp71d85gst', 'merek': 'KF94 Orliin', 'stok_awal': 100}, {'harga_awal': 14500, 'harga_jual': 20000, 'keuntungan': 5500, 'key': 'yiqt7k0r5a7r', 'merek': 'DB Y&B Anak', 'stok_awal': 100}, {'harga_awal': 125000, 'harga_jual': 130000, 'keuntungan': 5000, 'key': 'ypi8beyr0as7', 'merek': 'KF94 Sensi', 'stok_awal': 100}]\n"
     ]
    },
    {
     "ename": "TypeError",
     "evalue": "'NoneType' object is not iterable",
     "output_type": "error",
     "traceback": [
      "\u001b[1;31m---------------------------------------------------------------------------\u001b[0m",
      "\u001b[1;31mTypeError\u001b[0m                                 Traceback (most recent call last)",
      "\u001b[1;32m~\\AppData\\Local\\Temp\\ipykernel_3660\\4073985180.py\u001b[0m in \u001b[0;36m<module>\u001b[1;34m\u001b[0m\n\u001b[1;32m----> 1\u001b[1;33m \u001b[0mmerek_list\u001b[0m \u001b[1;33m=\u001b[0m \u001b[1;33m[\u001b[0m\u001b[0mitem\u001b[0m\u001b[1;33m.\u001b[0m\u001b[0mget\u001b[0m\u001b[1;33m(\u001b[0m\u001b[1;34m'merek'\u001b[0m\u001b[1;33m)\u001b[0m \u001b[1;32mfor\u001b[0m \u001b[0mitem\u001b[0m \u001b[1;32min\u001b[0m \u001b[0mfetch_data_masker\u001b[0m\u001b[1;33m(\u001b[0m\u001b[1;33m)\u001b[0m\u001b[1;33m]\u001b[0m\u001b[1;33m\u001b[0m\u001b[1;33m\u001b[0m\u001b[0m\n\u001b[0m\u001b[0;32m      2\u001b[0m \u001b[1;33m\u001b[0m\u001b[0m\n\u001b[0;32m      3\u001b[0m \u001b[1;33m\u001b[0m\u001b[0m\n\u001b[0;32m      4\u001b[0m \u001b[1;32mdef\u001b[0m \u001b[0mfetch_data_masker_by_merek\u001b[0m\u001b[1;33m(\u001b[0m\u001b[0mselected_merek\u001b[0m\u001b[1;33m)\u001b[0m\u001b[1;33m:\u001b[0m\u001b[1;33m\u001b[0m\u001b[1;33m\u001b[0m\u001b[0m\n\u001b[0;32m      5\u001b[0m     \u001b[1;34m\"\"\"Returns a list of all periods with the specified upload date\"\"\"\u001b[0m\u001b[1;33m\u001b[0m\u001b[1;33m\u001b[0m\u001b[0m\n",
      "\u001b[1;31mTypeError\u001b[0m: 'NoneType' object is not iterable"
     ]
    }
   ],
   "source": [
    "merek_list = [item.get('merek') for item in fetch_data_masker()]\n",
    "\n",
    "\n",
    "def fetch_data_masker_by_merek(selected_merek):\n",
    "    \"\"\"Returns a list of all periods with the specified upload date\"\"\"\n",
    "    all_data = db_data_masker.fetch().items\n",
    "    filtered_data = [\n",
    "        item for item in all_data if item['merek'] == selected_merek]\n",
    "    return filtered_data\n",
    "\n",
    "\n",
    "print(merek_list)\n"
   ]
  }
 ],
 "metadata": {
  "kernelspec": {
   "display_name": "base",
   "language": "python",
   "name": "python3"
  },
  "language_info": {
   "codemirror_mode": {
    "name": "ipython",
    "version": 3
   },
   "file_extension": ".py",
   "mimetype": "text/x-python",
   "name": "python",
   "nbconvert_exporter": "python",
   "pygments_lexer": "ipython3",
   "version": "3.9.13"
  },
  "orig_nbformat": 4
 },
 "nbformat": 4,
 "nbformat_minor": 2
}
