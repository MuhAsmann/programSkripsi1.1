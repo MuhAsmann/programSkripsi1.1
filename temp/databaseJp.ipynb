{
 "cells": [
  {
   "cell_type": "code",
   "execution_count": 1,
   "metadata": {},
   "outputs": [],
   "source": [
    "import datetime\n",
    "from deta import Deta\n",
    "import pandas as pd\n",
    "\n",
    "# pertama\n",
    "# DETA_KEY = \"c0gxjy11k58_1LNFR6YDq8M1Ptm267jymu1Eau95ELjc\"\n",
    "# kedua\n",
    "DETA_KEY = \"c06jtxtz2ux_7jT2qFf4QXAwpfTSwDqzfekgEv1S7JSN\"\n",
    "\n",
    "\n",
    "\n",
    "deta = Deta(DETA_KEY)\n",
    "# pertama\n",
    "# db_transaksi = deta.Base(\"coba\")\n",
    "# db_user = deta.Base(\"user\")\n",
    "\n",
    "# kedua\n",
    "db_transaksi = deta.Base(\"dataTransaksi\")\n",
    "db_data_masker = deta.Base(\"dataMasker\")\n",
    "db_hasil = deta.Base(\"dataHasil\")\n",
    "\n"
   ]
  },
  {
   "cell_type": "code",
   "execution_count": 5,
   "metadata": {},
   "outputs": [
    {
     "name": "stdout",
     "output_type": "stream",
     "text": [
      "0\n"
     ]
    }
   ],
   "source": [
    "def cekHasil(period):\n",
    "    existing_data = db_hasil.fetch({\"tanggal_upload\": period}).items\n",
    "\n",
    "    if existing_data:\n",
    "        return existing_data\n",
    "    else:\n",
    "        return 0\n",
    "\n",
    "\n",
    "print(cekHasil(\"2023-04-30 21:01:46\"))\n"
   ]
  },
  {
   "cell_type": "code",
   "execution_count": null,
   "metadata": {},
   "outputs": [],
   "source": [
    "def insert_period(tanggal, merek, banyak, tanggal_upload):\n",
    "    \"\"\"Returns the report on a successful creation, otherwise raises an error\"\"\"\n",
    "    return db_transaksi.put({\"tanggal\": tanggal, \"merek\": merek, \"banyak\": banyak, \"tanggal_upload\": tanggal_upload})\n"
   ]
  },
  {
   "cell_type": "code",
   "execution_count": null,
   "metadata": {},
   "outputs": [],
   "source": [
    "def fetch_all_tanggal_upload():\n",
    "    \"\"\"Returns a list of all unique values in the tanggal_upload column\"\"\"\n",
    "    all_data = db_transaksi.fetch().items\n",
    "    unique_tanggal_upload = list(\n",
    "        set([item['tanggal_upload'] for item in all_data]))\n",
    "    return unique_tanggal_upload\n",
    "\n",
    "print(fetch_all_tanggal_upload())"
   ]
  },
  {
   "cell_type": "code",
   "execution_count": null,
   "metadata": {},
   "outputs": [],
   "source": [
    "# import itertools\n",
    "\n",
    "def fetch_periods_by_date(tanggal_upload):\n",
    "    \"\"\"Returns a list of all periods with the specified upload date\"\"\"\n",
    "    all_data = db_transaksi.fetch().items\n",
    "    filtered_data = [\n",
    "        item for item in all_data if item['tanggal_upload'] == tanggal_upload]\n",
    "    return filtered_data\n",
    "\n",
    "#     all_data = db_transaksi.fetch().items\n",
    "#     filtered_data = [\n",
    "#         item for item in all_data if item['tanggal_upload'] == tanggal_upload]\n",
    "\n",
    "#     # group the filtered data by 'merek'\n",
    "#     grouped_data = itertools.groupby(filtered_data, key=lambda x: x['merek'])\n",
    "\n",
    "#     # calculate the total of 'banyak' for each group\n",
    "#     result = []\n",
    "#     for merek, group in grouped_data:\n",
    "#         total_banyak = sum(item['banyak'] for item in group)\n",
    "#         result.append({'merek': merek, 'total_banyak': total_banyak})\n",
    "\n",
    "#     return result\n",
    "\n",
    "\n",
    "    # all_data = db_transaksi.fetch().items\n",
    "    # filtered_data = [\n",
    "    #     item for item in all_data if item['tanggal_upload'] == tanggal_upload]\n",
    "\n",
    "    # result = []\n",
    "    # for item in filtered_data:\n",
    "    #     added = False\n",
    "    #     for res in result:\n",
    "    #         if res['merek'] == item['merek']:\n",
    "    #             res['total_banyak'] += item['banyak']\n",
    "    #             added = True\n",
    "    #             break\n",
    "    #     if not added:\n",
    "    #         result.append(\n",
    "    #             {'merek': item['merek'], 'total_banyak': item['banyak']})\n",
    "\n",
    "    # return result\n",
    "\n",
    "\n",
    "print(fetch_periods_by_date(\"2023-04-29 13:46:56\"))\n"
   ]
  },
  {
   "cell_type": "code",
   "execution_count": null,
   "metadata": {},
   "outputs": [],
   "source": [
    "def merge_data(tanggal_upload):\n",
    "    # Fetch data from both tables\n",
    "    data_masker = db_data_masker.fetch().items\n",
    "    data_transaksi = db_transaksi.fetch().items\n",
    "\n",
    "    # Get total banyak for each mask brand from transaksi table\n",
    "    total_banyak_by_merek = {}\n",
    "    for item in data_transaksi:\n",
    "        if item['tanggal_upload'] == tanggal_upload:\n",
    "            if item['merek'] in total_banyak_by_merek:\n",
    "                total_banyak_by_merek[item['merek']] += item['banyak']\n",
    "            else:\n",
    "                total_banyak_by_merek[item['merek']] = item['banyak']\n",
    "\n",
    "    print (total_banyak_by_merek)   \n",
    "    # Merge data from both tables by mask brand\n",
    "    result = []\n",
    "    for item_masker in data_masker:\n",
    "        merek = item_masker['merek']\n",
    "        stok = item_masker['stok_awal'] - total_banyak_by_merek.get(merek, 0)\n",
    "        total_penjualan = total_banyak_by_merek.get(merek, 0)\n",
    "        keuntungan = total_banyak_by_merek.get(\n",
    "            merek, 0) * item_masker['keuntungan']\n",
    "\n",
    "        result.append({\n",
    "            'merek': merek,\n",
    "            'stok': stok,\n",
    "            'total_penjualan': total_penjualan,\n",
    "            'keuntungan': keuntungan\n",
    "        })\n",
    "\n",
    "    return result\n",
    "\n",
    "print(merge_data(\"2023-04-30 21:01:45\"))\n"
   ]
  },
  {
   "cell_type": "code",
   "execution_count": null,
   "metadata": {},
   "outputs": [],
   "source": [
    "def delete_data_by_date(tanggal_upload):\n",
    "    \"\"\"Deletes all data with the specified tanggal_upload\"\"\"\n",
    "    data = db_transaksi.fetch({\"tanggal_upload\": tanggal_upload})\n",
    "    for item in data.items:\n",
    "        db_transaksi.delete(item[\"key\"])\n"
   ]
  },
  {
   "cell_type": "code",
   "execution_count": null,
   "metadata": {},
   "outputs": [],
   "source": [
    "def fetch_data_masker():\n",
    "    data = db_data_masker.fetch().items\n",
    "    print(data)\n",
    "\n",
    "fetch_data_masker()\n"
   ]
  },
  {
   "cell_type": "code",
   "execution_count": null,
   "metadata": {},
   "outputs": [],
   "source": [
    "def insert_data(merek, stok_awal, harga_awal, keuntungan):\n",
    "    \"\"\"Returns the report on a successful creation, otherwise raises an error\"\"\"\n",
    "    return db_data_masker.put({\n",
    "        'merek': merek,\n",
    "        'stok_awal': stok_awal,\n",
    "        'harga_awal': harga_awal,\n",
    "        'keuntungan': keuntungan,\n",
    "        'harga_jual': harga_awal + keuntungan\n",
    "    })\n",
    "\n",
    "\n",
    "def edit_data(key, merek, stok_awal, harga_awal, keuntungan, harga_jual):\n",
    "    return db_data_masker.update({\n",
    "        'merek': merek,\n",
    "        'stok_awal': stok_awal,\n",
    "        'harga_awal': harga_awal,\n",
    "        'keuntungan': keuntungan,\n",
    "        'harga_jual': harga_jual\n",
    "    }, key)\n",
    "\n",
    "\n",
    "def delete_data(key):\n",
    "    return db_data_masker.delete(key)\n"
   ]
  },
  {
   "cell_type": "code",
   "execution_count": null,
   "metadata": {},
   "outputs": [],
   "source": [
    "merek_list = [item.get('merek') for item in fetch_data_masker()]\n",
    "\n",
    "\n",
    "def fetch_data_masker_by_merek(selected_merek):\n",
    "    \"\"\"Returns a list of all periods with the specified upload date\"\"\"\n",
    "    all_data = db_data_masker.fetch().items\n",
    "    filtered_data = [\n",
    "        item for item in all_data if item['merek'] == selected_merek]\n",
    "    return filtered_data\n",
    "\n",
    "\n",
    "print(merek_list)\n"
   ]
  }
 ],
 "metadata": {
  "kernelspec": {
   "display_name": "base",
   "language": "python",
   "name": "python3"
  },
  "language_info": {
   "codemirror_mode": {
    "name": "ipython",
    "version": 3
   },
   "file_extension": ".py",
   "mimetype": "text/x-python",
   "name": "python",
   "nbconvert_exporter": "python",
   "pygments_lexer": "ipython3",
   "version": "3.9.13"
  },
  "orig_nbformat": 4
 },
 "nbformat": 4,
 "nbformat_minor": 2
}
